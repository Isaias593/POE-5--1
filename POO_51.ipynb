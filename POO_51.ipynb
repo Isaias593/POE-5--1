{
  "nbformat": 4,
  "nbformat_minor": 0,
  "metadata": {
    "colab": {
      "name": "POO 51.ipynb",
      "provenance": [],
      "authorship_tag": "ABX9TyO8BKx7bTmszCfJ9IY2xAp/",
      "include_colab_link": true
    },
    "kernelspec": {
      "name": "python3",
      "display_name": "Python 3"
    },
    "language_info": {
      "name": "python"
    }
  },
  "cells": [
    {
      "cell_type": "markdown",
      "metadata": {
        "id": "view-in-github",
        "colab_type": "text"
      },
      "source": [
        "<a href=\"https://colab.research.google.com/github/Isaias593/POE-5--1/blob/main/POO_51.ipynb\" target=\"_parent\"><img src=\"https://colab.research.google.com/assets/colab-badge.svg\" alt=\"Open In Colab\"/></a>"
      ]
    },
    {
      "cell_type": "code",
      "execution_count": 2,
      "metadata": {
        "id": "ghnmBDKE3cVQ"
      },
      "outputs": [],
      "source": [
        "class persona(): # clase persona\n",
        "    def __init__(self,nombre,edad): # se inicializa con nombre y edad\n",
        "        self.nombre=nombre\n",
        "        self.edad=edad\n",
        "\n",
        " \n",
        "        "
      ]
    },
    {
      "cell_type": "code",
      "source": [
        "isaias=persona(\"Isaias Coronel\", 30)\n"
      ],
      "metadata": {
        "id": "KRUdx-f64fwI"
      },
      "execution_count": null,
      "outputs": []
    },
    {
      "cell_type": "code",
      "source": [
        "Ejercicio 1. Imprimir Edad.\n",
        "## isaias.nombre"
      ],
      "metadata": {
        "id": "sPuGKsFg4kz9"
      },
      "execution_count": null,
      "outputs": []
    },
    {
      "cell_type": "code",
      "source": [
        "'Isaias Coronel'"
      ],
      "metadata": {
        "id": "N01K6fTZ4prM"
      },
      "execution_count": null,
      "outputs": []
    }
  ]
}