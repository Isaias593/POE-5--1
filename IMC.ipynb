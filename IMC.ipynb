{
  "nbformat": 4,
  "nbformat_minor": 0,
  "metadata": {
    "colab": {
      "name": "IMC.ipynb",
      "provenance": [],
      "authorship_tag": "ABX9TyMwwXl73Y9vxMUEFmFMSzeb",
      "include_colab_link": true
    },
    "kernelspec": {
      "name": "python3",
      "display_name": "Python 3"
    },
    "language_info": {
      "name": "python"
    }
  },
  "cells": [
    {
      "cell_type": "markdown",
      "metadata": {
        "id": "view-in-github",
        "colab_type": "text"
      },
      "source": [
        "<a href=\"https://colab.research.google.com/github/Isaias593/POE-5--1/blob/main/IMC.ipynb\" target=\"_parent\"><img src=\"https://colab.research.google.com/assets/colab-badge.svg\" alt=\"Open In Colab\"/></a>"
      ]
    },
    {
      "cell_type": "code",
      "source": [
        "#@title Calculo Indice masa corporal { display-mode: \"both\" }\n",
        "Estatura =  1.65#@param {type:\"number\"}\n",
        "Peso =  68#@param {type:\"number\"}\n",
        "\n",
        "print((Peso) /(Estatura*Estatura))\n"
      ],
      "metadata": {
        "colab": {
          "base_uri": "https://localhost:8080/"
        },
        "id": "hxIpQbfb7RM9",
        "outputId": "d61ef1f8-7703-418c-e78b-acf31900ea1d"
      },
      "execution_count": 2,
      "outputs": [
        {
          "output_type": "stream",
          "name": "stdout",
          "text": [
            "24.977043158861342\n"
          ]
        }
      ]
    }
  ]
}